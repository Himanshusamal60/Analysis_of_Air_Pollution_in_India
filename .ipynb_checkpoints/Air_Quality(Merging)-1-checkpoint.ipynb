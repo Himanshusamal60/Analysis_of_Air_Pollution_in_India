{
 "cells": [
  {
   "cell_type": "code",
   "execution_count": 1,
   "id": "4da4d17d",
   "metadata": {},
   "outputs": [],
   "source": [
    "import os\n",
    "import glob\n",
    "import pandas as pd"
   ]
  },
  {
   "cell_type": "markdown",
   "id": "afc617b5",
   "metadata": {},
   "source": [
    "### File size for file names start with \"AP\""
   ]
  },
  {
   "cell_type": "code",
   "execution_count": 2,
   "id": "414d06d2",
   "metadata": {},
   "outputs": [
    {
     "name": "stdout",
     "output_type": "stream",
     "text": [
      "File: E:\\CDAC(2024)\\Air Quality Project\\Dataset\\AP001.csv - Size: 8182557 bytes\n",
      "File: E:\\CDAC(2024)\\Air Quality Project\\Dataset\\AP002.csv - Size: 4732698 bytes\n",
      "File: E:\\CDAC(2024)\\Air Quality Project\\Dataset\\AP003.csv - Size: 7202521 bytes\n",
      "File: E:\\CDAC(2024)\\Air Quality Project\\Dataset\\AP004.csv - Size: 7352690 bytes\n",
      "File: E:\\CDAC(2024)\\Air Quality Project\\Dataset\\AP005.csv - Size: 6767691 bytes\n",
      "File: E:\\CDAC(2024)\\Air Quality Project\\Dataset\\AP006.csv - Size: 756834 bytes\n",
      "File: E:\\CDAC(2024)\\Air Quality Project\\Dataset\\AP007.csv - Size: 475684 bytes\n",
      "File: E:\\CDAC(2024)\\Air Quality Project\\Dataset\\AP008.csv - Size: 493096 bytes\n",
      "File: E:\\CDAC(2024)\\Air Quality Project\\Dataset\\AP009.csv - Size: 221639 bytes\n",
      "File: E:\\CDAC(2024)\\Air Quality Project\\Dataset\\AP010.csv - Size: 242220 bytes\n"
     ]
    }
   ],
   "source": [
    "# Path to the folder containing the CSV files\n",
    "folder_path = 'E:\\CDAC(2024)\\Air Quality Project\\Dataset'\n",
    "\n",
    "# Get all CSV files in the folder that start with 'AP'\n",
    "csv_files = glob.glob(os.path.join(folder_path, 'AP*.csv'))\n",
    "\n",
    "# Iterate through each file and get its size\n",
    "for file in csv_files:\n",
    "    file_size = os.path.getsize(file)  # Size in bytes\n",
    "    print(f\"File: {file} - Size: {file_size} bytes\")"
   ]
  },
  {
   "cell_type": "markdown",
   "id": "173130c4",
   "metadata": {},
   "source": [
    "### Number of Rows and Columns for file names starting with \"AP\""
   ]
  },
  {
   "cell_type": "code",
   "execution_count": 3,
   "id": "7dfa623a",
   "metadata": {},
   "outputs": [
    {
     "name": "stdout",
     "output_type": "stream",
     "text": [
      "File: E:\\CDAC(2024)\\Air Quality Project\\Dataset\\AP001.csv - Rows: 59150, Columns: 23\n",
      "File: E:\\CDAC(2024)\\Air Quality Project\\Dataset\\AP002.csv - Rows: 51864, Columns: 24\n",
      "File: E:\\CDAC(2024)\\Air Quality Project\\Dataset\\AP003.csv - Rows: 50400, Columns: 23\n",
      "File: E:\\CDAC(2024)\\Air Quality Project\\Dataset\\AP004.csv - Rows: 48802, Columns: 25\n",
      "File: E:\\CDAC(2024)\\Air Quality Project\\Dataset\\AP005.csv - Rows: 46880, Columns: 25\n",
      "File: E:\\CDAC(2024)\\Air Quality Project\\Dataset\\AP006.csv - Rows: 5432, Columns: 25\n",
      "File: E:\\CDAC(2024)\\Air Quality Project\\Dataset\\AP007.csv - Rows: 3127, Columns: 24\n",
      "File: E:\\CDAC(2024)\\Air Quality Project\\Dataset\\AP008.csv - Rows: 3280, Columns: 24\n",
      "File: E:\\CDAC(2024)\\Air Quality Project\\Dataset\\AP009.csv - Rows: 1689, Columns: 24\n",
      "File: E:\\CDAC(2024)\\Air Quality Project\\Dataset\\AP010.csv - Rows: 1593, Columns: 24\n",
      "Total Rows across all 'AP' files: 272217\n"
     ]
    }
   ],
   "source": [
    "# Initialize variables to keep track of total rows\n",
    "total_rows = 0\n",
    "\n",
    "# Iterate through each file and get the number of rows and columns\n",
    "for file in csv_files:\n",
    "    df = pd.read_csv(file)\n",
    "    num_rows = df.shape[0]\n",
    "    num_cols = df.shape[1]\n",
    "    total_rows += num_rows\n",
    "    print(f\"File: {file} - Rows: {num_rows}, Columns: {num_cols}\")\n",
    "    \n",
    "print(f\"Total Rows across all 'AP' files: {total_rows}\")    "
   ]
  },
  {
   "cell_type": "markdown",
   "id": "a518d7c5",
   "metadata": {},
   "source": [
    "### Files (start with \"AP\") and column names dataframe"
   ]
  },
  {
   "cell_type": "code",
   "execution_count": 4,
   "id": "b99578d1",
   "metadata": {},
   "outputs": [
    {
     "data": {
      "text/html": [
       "<div>\n",
       "<style scoped>\n",
       "    .dataframe tbody tr th:only-of-type {\n",
       "        vertical-align: middle;\n",
       "    }\n",
       "\n",
       "    .dataframe tbody tr th {\n",
       "        vertical-align: top;\n",
       "    }\n",
       "\n",
       "    .dataframe thead th {\n",
       "        text-align: right;\n",
       "    }\n",
       "</style>\n",
       "<table border=\"1\" class=\"dataframe\">\n",
       "  <thead>\n",
       "    <tr style=\"text-align: right;\">\n",
       "      <th></th>\n",
       "      <th>File Name</th>\n",
       "      <th>Columns</th>\n",
       "    </tr>\n",
       "  </thead>\n",
       "  <tbody>\n",
       "    <tr>\n",
       "      <th>0</th>\n",
       "      <td>AP001.csv</td>\n",
       "      <td>From Date, To Date, PM2.5 (ug/m3), PM10 (ug/m3), NO (ug/m3), NO2 (ug/m3), NOx (ppb), NH3 (ug/m3), SO2 (ug/m3), CO (mg/m3), Ozone (ug/m3), Benzene (ug/m3), Toluene (ug/m3), Temp (degree C), RH (%), WS (m/s), WD (deg), SR (W/mt2), BP (mmHg), VWS (m/s), Xylene (ug/m3), RF (mm), AT (degree C)</td>\n",
       "    </tr>\n",
       "    <tr>\n",
       "      <th>1</th>\n",
       "      <td>AP002.csv</td>\n",
       "      <td>From Date, To Date, PM2.5 (ug/m3), PM10 (ug/m3), NO (ug/m3), NO2 (ug/m3), NOx (ppb), NH3 (ug/m3), SO2 (ug/m3), CO (mg/m3), Ozone (ug/m3), Benzene (ug/m3), Toluene (ug/m3), Eth-Benzene (ug/m3), MP-Xylene (ug/m3), O Xylene (ug/m3), RH (%), WS (m/s), WD (deg), SR (W/mt2), BP (mmHg), VWS (degree), AT (degree C), RF (mm)</td>\n",
       "    </tr>\n",
       "    <tr>\n",
       "      <th>2</th>\n",
       "      <td>AP003.csv</td>\n",
       "      <td>From Date, To Date, PM2.5 (ug/m3), PM10 (ug/m3), NO (ug/m3), NO2 (ug/m3), NOx (ppb), NH3 (ug/m3), SO2 (ug/m3), CO (mg/m3), Ozone (ug/m3), Benzene (ug/m3), Toluene (ug/m3), Temp (degree C), RH (%), WS (m/s), WD (degree), SR (W/mt2), BP (mmHg), VWS (m/s), AT (degree C), RF (mm), Xylene (ug/m3)</td>\n",
       "    </tr>\n",
       "    <tr>\n",
       "      <th>3</th>\n",
       "      <td>AP004.csv</td>\n",
       "      <td>From Date, To Date, PM2.5 (ug/m3), PM10 (ug/m3), NO (ug/m3), NO2 (ug/m3), NOx (ppb), NH3 (ug/m3), SO2 (ug/m3), CO (mg/m3), Ozone (ug/m3), Benzene (ug/m3), Toluene (ug/m3), Eth-Benzene (ug/m3), MP-Xylene (ug/m3), Temp (degree C), RH (%), WS (m/s), WD (degree), SR (W/mt2), BP (mmHg), VWS (m/s), AT (degree C), RF (mm), Xylene (ug/m3)</td>\n",
       "    </tr>\n",
       "    <tr>\n",
       "      <th>4</th>\n",
       "      <td>AP005.csv</td>\n",
       "      <td>From Date, To Date, PM2.5 (ug/m3), PM10 (ug/m3), NO (ug/m3), NO2 (ug/m3), NOx (ppb), NH3 (ug/m3), SO2 (ug/m3), CO (mg/m3), Ozone (ug/m3), Benzene (ug/m3), Toluene (ug/m3), Eth-Benzene (ug/m3), MP-Xylene (ug/m3), Temp (degree C), RH (%), WS (m/s), WD (degree), SR (W/mt2), BP (mmHg), VWS (m/s), AT (degree C), RF (mm), Xylene (ug/m3)</td>\n",
       "    </tr>\n",
       "    <tr>\n",
       "      <th>5</th>\n",
       "      <td>AP006.csv</td>\n",
       "      <td>From Date, To Date, PM2.5 (ug/m3), PM10 (ug/m3), NO (ug/m3), NO2 (ug/m3), NOx (ppb), NH3 (ug/m3), SO2 (ug/m3), CO (mg/m3), Ozone (ug/m3), Benzene (ug/m3), Toluene (ug/m3), Eth-Benzene (ug/m3), MP-Xylene (ug/m3), O Xylene (ug/m3), RH (%), WS (m/s), WD (degree), SR (W/mt2), BP (mmHg), VWS (m/s), RF (mm), Xylene (ug/m3), AT (degree C)</td>\n",
       "    </tr>\n",
       "    <tr>\n",
       "      <th>6</th>\n",
       "      <td>AP007.csv</td>\n",
       "      <td>From Date, To Date, PM2.5 (ug/m3), PM10 (ug/m3), NO (ug/m3), NO2 (ug/m3), NOx (ppb), NH3 (ug/m3), SO2 (ug/m3), CO (mg/m3), Ozone (ug/m3), Benzene (ug/m3), Toluene (ug/m3), Eth-Benzene (ug/m3), MP-Xylene (ug/m3), O Xylene (ug/m3), RH (%), WS (m/s), WD (degree), SR (W/mt2), BP (mmHg), VWS (m/s), RF (mm), AT (degree C)</td>\n",
       "    </tr>\n",
       "    <tr>\n",
       "      <th>7</th>\n",
       "      <td>AP008.csv</td>\n",
       "      <td>From Date, To Date, PM2.5 (ug/m3), PM10 (ug/m3), NO (ug/m3), NO2 (ug/m3), NOx (ppb), NH3 (ug/m3), SO2 (ug/m3), CO (mg/m3), Ozone (ug/m3), Benzene (ug/m3), Toluene (ug/m3), Eth-Benzene (ug/m3), MP-Xylene (ug/m3), O Xylene (ug/m3), RH (%), WS (m/s), WD (degree), SR (W/mt2), BP (mmHg), VWS (m/s), RF (mm), AT (degree C)</td>\n",
       "    </tr>\n",
       "    <tr>\n",
       "      <th>8</th>\n",
       "      <td>AP009.csv</td>\n",
       "      <td>From Date, To Date, PM2.5 (ug/m3), PM10 (ug/m3), NO (ug/m3), NO2 (ug/m3), NOx (ppb), NH3 (ug/m3), SO2 (ug/m3), CO (mg/m3), Ozone (ug/m3), Benzene (ug/m3), Toluene (ug/m3), Eth-Benzene (ug/m3), MP-Xylene (ug/m3), O Xylene (ug/m3), RH (%), WS (m/s), WD (degree), SR (W/mt2), BP (mmHg), VWS (m/s), RF (mm), AT (degree C)</td>\n",
       "    </tr>\n",
       "    <tr>\n",
       "      <th>9</th>\n",
       "      <td>AP010.csv</td>\n",
       "      <td>From Date, To Date, PM2.5 (ug/m3), PM10 (ug/m3), NO (ug/m3), NO2 (ug/m3), NOx (ppb), NH3 (ug/m3), SO2 (ug/m3), CO (mg/m3), Ozone (ug/m3), Benzene (ug/m3), Toluene (ug/m3), Eth-Benzene (ug/m3), MP-Xylene (ug/m3), O Xylene (ug/m3), RH (%), WS (m/s), WD (degree), SR (W/mt2), BP (mmHg), VWS (m/s), RF (mm), AT (degree C)</td>\n",
       "    </tr>\n",
       "  </tbody>\n",
       "</table>\n",
       "</div>"
      ],
      "text/plain": [
       "   File Name  \\\n",
       "0  AP001.csv   \n",
       "1  AP002.csv   \n",
       "2  AP003.csv   \n",
       "3  AP004.csv   \n",
       "4  AP005.csv   \n",
       "5  AP006.csv   \n",
       "6  AP007.csv   \n",
       "7  AP008.csv   \n",
       "8  AP009.csv   \n",
       "9  AP010.csv   \n",
       "\n",
       "                                                                                                                                                                                                                                                                                                                                         Columns  \n",
       "0                                              From Date, To Date, PM2.5 (ug/m3), PM10 (ug/m3), NO (ug/m3), NO2 (ug/m3), NOx (ppb), NH3 (ug/m3), SO2 (ug/m3), CO (mg/m3), Ozone (ug/m3), Benzene (ug/m3), Toluene (ug/m3), Temp (degree C), RH (%), WS (m/s), WD (deg), SR (W/mt2), BP (mmHg), VWS (m/s), Xylene (ug/m3), RF (mm), AT (degree C)  \n",
       "1                  From Date, To Date, PM2.5 (ug/m3), PM10 (ug/m3), NO (ug/m3), NO2 (ug/m3), NOx (ppb), NH3 (ug/m3), SO2 (ug/m3), CO (mg/m3), Ozone (ug/m3), Benzene (ug/m3), Toluene (ug/m3), Eth-Benzene (ug/m3), MP-Xylene (ug/m3), O Xylene (ug/m3), RH (%), WS (m/s), WD (deg), SR (W/mt2), BP (mmHg), VWS (degree), AT (degree C), RF (mm)  \n",
       "2                                           From Date, To Date, PM2.5 (ug/m3), PM10 (ug/m3), NO (ug/m3), NO2 (ug/m3), NOx (ppb), NH3 (ug/m3), SO2 (ug/m3), CO (mg/m3), Ozone (ug/m3), Benzene (ug/m3), Toluene (ug/m3), Temp (degree C), RH (%), WS (m/s), WD (degree), SR (W/mt2), BP (mmHg), VWS (m/s), AT (degree C), RF (mm), Xylene (ug/m3)  \n",
       "3   From Date, To Date, PM2.5 (ug/m3), PM10 (ug/m3), NO (ug/m3), NO2 (ug/m3), NOx (ppb), NH3 (ug/m3), SO2 (ug/m3), CO (mg/m3), Ozone (ug/m3), Benzene (ug/m3), Toluene (ug/m3), Eth-Benzene (ug/m3), MP-Xylene (ug/m3), Temp (degree C), RH (%), WS (m/s), WD (degree), SR (W/mt2), BP (mmHg), VWS (m/s), AT (degree C), RF (mm), Xylene (ug/m3)  \n",
       "4   From Date, To Date, PM2.5 (ug/m3), PM10 (ug/m3), NO (ug/m3), NO2 (ug/m3), NOx (ppb), NH3 (ug/m3), SO2 (ug/m3), CO (mg/m3), Ozone (ug/m3), Benzene (ug/m3), Toluene (ug/m3), Eth-Benzene (ug/m3), MP-Xylene (ug/m3), Temp (degree C), RH (%), WS (m/s), WD (degree), SR (W/mt2), BP (mmHg), VWS (m/s), AT (degree C), RF (mm), Xylene (ug/m3)  \n",
       "5  From Date, To Date, PM2.5 (ug/m3), PM10 (ug/m3), NO (ug/m3), NO2 (ug/m3), NOx (ppb), NH3 (ug/m3), SO2 (ug/m3), CO (mg/m3), Ozone (ug/m3), Benzene (ug/m3), Toluene (ug/m3), Eth-Benzene (ug/m3), MP-Xylene (ug/m3), O Xylene (ug/m3), RH (%), WS (m/s), WD (degree), SR (W/mt2), BP (mmHg), VWS (m/s), RF (mm), Xylene (ug/m3), AT (degree C)  \n",
       "6                  From Date, To Date, PM2.5 (ug/m3), PM10 (ug/m3), NO (ug/m3), NO2 (ug/m3), NOx (ppb), NH3 (ug/m3), SO2 (ug/m3), CO (mg/m3), Ozone (ug/m3), Benzene (ug/m3), Toluene (ug/m3), Eth-Benzene (ug/m3), MP-Xylene (ug/m3), O Xylene (ug/m3), RH (%), WS (m/s), WD (degree), SR (W/mt2), BP (mmHg), VWS (m/s), RF (mm), AT (degree C)  \n",
       "7                  From Date, To Date, PM2.5 (ug/m3), PM10 (ug/m3), NO (ug/m3), NO2 (ug/m3), NOx (ppb), NH3 (ug/m3), SO2 (ug/m3), CO (mg/m3), Ozone (ug/m3), Benzene (ug/m3), Toluene (ug/m3), Eth-Benzene (ug/m3), MP-Xylene (ug/m3), O Xylene (ug/m3), RH (%), WS (m/s), WD (degree), SR (W/mt2), BP (mmHg), VWS (m/s), RF (mm), AT (degree C)  \n",
       "8                  From Date, To Date, PM2.5 (ug/m3), PM10 (ug/m3), NO (ug/m3), NO2 (ug/m3), NOx (ppb), NH3 (ug/m3), SO2 (ug/m3), CO (mg/m3), Ozone (ug/m3), Benzene (ug/m3), Toluene (ug/m3), Eth-Benzene (ug/m3), MP-Xylene (ug/m3), O Xylene (ug/m3), RH (%), WS (m/s), WD (degree), SR (W/mt2), BP (mmHg), VWS (m/s), RF (mm), AT (degree C)  \n",
       "9                  From Date, To Date, PM2.5 (ug/m3), PM10 (ug/m3), NO (ug/m3), NO2 (ug/m3), NOx (ppb), NH3 (ug/m3), SO2 (ug/m3), CO (mg/m3), Ozone (ug/m3), Benzene (ug/m3), Toluene (ug/m3), Eth-Benzene (ug/m3), MP-Xylene (ug/m3), O Xylene (ug/m3), RH (%), WS (m/s), WD (degree), SR (W/mt2), BP (mmHg), VWS (m/s), RF (mm), AT (degree C)  "
      ]
     },
     "execution_count": 4,
     "metadata": {},
     "output_type": "execute_result"
    }
   ],
   "source": [
    "# Initialize a list to store the results\n",
    "results = []\n",
    "\n",
    "# Iterate through each file and get the columns\n",
    "for file in csv_files:\n",
    "    df = pd.read_csv(file)\n",
    "    columns = list(df.columns)\n",
    "    results.append([os.path.basename(file), ', '.join(columns)])\n",
    "\n",
    "# Create a DataFrame to display the results in table format\n",
    "result_df = pd.DataFrame(results, columns=['File Name', 'Columns'])\n",
    "\n",
    "# Set pandas options to display the complete table\n",
    "pd.set_option('display.max_colwidth', None)\n",
    "pd.set_option('display.max_rows', None)\n",
    "pd.set_option('display.max_columns', None)\n",
    "\n",
    "result_df\n",
    "# Print the DataFrame\n",
    "#print(result_df.to_string(index=False))\n"
   ]
  },
  {
   "cell_type": "markdown",
   "id": "e05d1dbf",
   "metadata": {},
   "source": [
    "# Merging File Starts with \"AP\""
   ]
  },
  {
   "cell_type": "raw",
   "id": "cf7ba0fa",
   "metadata": {},
   "source": [
    "import pandas as pd\n",
    "import glob\n",
    "import os\n",
    "\n",
    "# Path to the folder containing the CSV files\n",
    "folder_path = 'E:\\CDAC(2024)\\Air Quality Project\\Dataset'\n",
    "\n",
    "# Get all CSV files in the folder that start with 'AP'\n",
    "csv_files = glob.glob(os.path.join(folder_path, 'AP*.csv'))\n",
    "\n",
    "# Initialize an empty list to hold dataframes\n",
    "dfs = []\n",
    "\n",
    "# Read each CSV file and append the dataframe to the list\n",
    "for file in csv_files:\n",
    "    df = pd.read_csv(file)\n",
    "    dfs.append(df)\n",
    "\n",
    "# Concatenate all dataframes in the list into a single dataframe\n",
    "merged_df = pd.concat(dfs, ignore_index=True)\n",
    "\n",
    "# Save the merged dataframe to a new CSV file\n",
    "merged_df.to_csv(os.path.join('E:\\CDAC(2024)\\Air Quality Project', 'AP.csv'), index=False)\n",
    "\n",
    "print('Files merged and saved as merged_AP_files.csv')"
   ]
  },
  {
   "cell_type": "markdown",
   "id": "61c21cc5",
   "metadata": {},
   "source": [
    "#######################################################################################################################"
   ]
  },
  {
   "cell_type": "markdown",
   "id": "f614bbeb",
   "metadata": {},
   "source": [
    "# Merging files of similar name"
   ]
  },
  {
   "cell_type": "markdown",
   "id": "94c13daa",
   "metadata": {},
   "source": [
    "#####################################################################################################################"
   ]
  },
  {
   "cell_type": "markdown",
   "id": "4aa98d71",
   "metadata": {},
   "source": [
    "## 1. Add state,city and station_location in each file using stations_info.csv"
   ]
  },
  {
   "cell_type": "code",
   "execution_count": 5,
   "id": "f9b9a00a",
   "metadata": {},
   "outputs": [
    {
     "name": "stdout",
     "output_type": "stream",
     "text": [
      "['E:\\\\CDAC(2024)\\\\Air Quality Project\\\\Dataset\\\\AP001.csv', 'E:\\\\CDAC(2024)\\\\Air Quality Project\\\\Dataset\\\\AP002.csv', 'E:\\\\CDAC(2024)\\\\Air Quality Project\\\\Dataset\\\\AP003.csv', 'E:\\\\CDAC(2024)\\\\Air Quality Project\\\\Dataset\\\\AP004.csv', 'E:\\\\CDAC(2024)\\\\Air Quality Project\\\\Dataset\\\\AP005.csv', 'E:\\\\CDAC(2024)\\\\Air Quality Project\\\\Dataset\\\\AP006.csv', 'E:\\\\CDAC(2024)\\\\Air Quality Project\\\\Dataset\\\\AP007.csv', 'E:\\\\CDAC(2024)\\\\Air Quality Project\\\\Dataset\\\\AP008.csv', 'E:\\\\CDAC(2024)\\\\Air Quality Project\\\\Dataset\\\\AP009.csv', 'E:\\\\CDAC(2024)\\\\Air Quality Project\\\\Dataset\\\\AP010.csv', 'E:\\\\CDAC(2024)\\\\Air Quality Project\\\\Dataset\\\\AR001.csv', 'E:\\\\CDAC(2024)\\\\Air Quality Project\\\\Dataset\\\\AS001.csv', 'E:\\\\CDAC(2024)\\\\Air Quality Project\\\\Dataset\\\\AS002.csv', 'E:\\\\CDAC(2024)\\\\Air Quality Project\\\\Dataset\\\\AS003.csv', 'E:\\\\CDAC(2024)\\\\Air Quality Project\\\\Dataset\\\\AS004.csv', 'E:\\\\CDAC(2024)\\\\Air Quality Project\\\\Dataset\\\\AS005.csv', 'E:\\\\CDAC(2024)\\\\Air Quality Project\\\\Dataset\\\\AS006.csv', 'E:\\\\CDAC(2024)\\\\Air Quality Project\\\\Dataset\\\\AS007.csv', 'E:\\\\CDAC(2024)\\\\Air Quality Project\\\\Dataset\\\\AS008.csv', 'E:\\\\CDAC(2024)\\\\Air Quality Project\\\\Dataset\\\\AS009.csv', 'E:\\\\CDAC(2024)\\\\Air Quality Project\\\\Dataset\\\\BR001.csv', 'E:\\\\CDAC(2024)\\\\Air Quality Project\\\\Dataset\\\\BR002.csv', 'E:\\\\CDAC(2024)\\\\Air Quality Project\\\\Dataset\\\\BR003.csv', 'E:\\\\CDAC(2024)\\\\Air Quality Project\\\\Dataset\\\\BR004.csv', 'E:\\\\CDAC(2024)\\\\Air Quality Project\\\\Dataset\\\\BR005.csv', 'E:\\\\CDAC(2024)\\\\Air Quality Project\\\\Dataset\\\\BR006.csv', 'E:\\\\CDAC(2024)\\\\Air Quality Project\\\\Dataset\\\\BR007.csv', 'E:\\\\CDAC(2024)\\\\Air Quality Project\\\\Dataset\\\\BR008.csv', 'E:\\\\CDAC(2024)\\\\Air Quality Project\\\\Dataset\\\\BR009.csv', 'E:\\\\CDAC(2024)\\\\Air Quality Project\\\\Dataset\\\\BR010.csv', 'E:\\\\CDAC(2024)\\\\Air Quality Project\\\\Dataset\\\\BR011.csv', 'E:\\\\CDAC(2024)\\\\Air Quality Project\\\\Dataset\\\\BR012.csv', 'E:\\\\CDAC(2024)\\\\Air Quality Project\\\\Dataset\\\\BR013.csv', 'E:\\\\CDAC(2024)\\\\Air Quality Project\\\\Dataset\\\\BR014.csv', 'E:\\\\CDAC(2024)\\\\Air Quality Project\\\\Dataset\\\\BR015.csv', 'E:\\\\CDAC(2024)\\\\Air Quality Project\\\\Dataset\\\\BR016.csv', 'E:\\\\CDAC(2024)\\\\Air Quality Project\\\\Dataset\\\\BR017.csv', 'E:\\\\CDAC(2024)\\\\Air Quality Project\\\\Dataset\\\\BR018.csv', 'E:\\\\CDAC(2024)\\\\Air Quality Project\\\\Dataset\\\\BR019.csv', 'E:\\\\CDAC(2024)\\\\Air Quality Project\\\\Dataset\\\\BR020.csv', 'E:\\\\CDAC(2024)\\\\Air Quality Project\\\\Dataset\\\\BR021.csv', 'E:\\\\CDAC(2024)\\\\Air Quality Project\\\\Dataset\\\\BR022.csv', 'E:\\\\CDAC(2024)\\\\Air Quality Project\\\\Dataset\\\\BR023.csv', 'E:\\\\CDAC(2024)\\\\Air Quality Project\\\\Dataset\\\\BR024.csv', 'E:\\\\CDAC(2024)\\\\Air Quality Project\\\\Dataset\\\\BR025.csv', 'E:\\\\CDAC(2024)\\\\Air Quality Project\\\\Dataset\\\\BR026.csv', 'E:\\\\CDAC(2024)\\\\Air Quality Project\\\\Dataset\\\\BR027.csv', 'E:\\\\CDAC(2024)\\\\Air Quality Project\\\\Dataset\\\\BR028.csv', 'E:\\\\CDAC(2024)\\\\Air Quality Project\\\\Dataset\\\\BR029.csv', 'E:\\\\CDAC(2024)\\\\Air Quality Project\\\\Dataset\\\\BR030.csv', 'E:\\\\CDAC(2024)\\\\Air Quality Project\\\\Dataset\\\\BR031.csv', 'E:\\\\CDAC(2024)\\\\Air Quality Project\\\\Dataset\\\\BR032.csv', 'E:\\\\CDAC(2024)\\\\Air Quality Project\\\\Dataset\\\\BR033.csv', 'E:\\\\CDAC(2024)\\\\Air Quality Project\\\\Dataset\\\\BR034.csv', 'E:\\\\CDAC(2024)\\\\Air Quality Project\\\\Dataset\\\\BR035.csv', 'E:\\\\CDAC(2024)\\\\Air Quality Project\\\\Dataset\\\\CG001.csv', 'E:\\\\CDAC(2024)\\\\Air Quality Project\\\\Dataset\\\\CG002.csv', 'E:\\\\CDAC(2024)\\\\Air Quality Project\\\\Dataset\\\\CG003.csv', 'E:\\\\CDAC(2024)\\\\Air Quality Project\\\\Dataset\\\\CG004.csv', 'E:\\\\CDAC(2024)\\\\Air Quality Project\\\\Dataset\\\\CG005.csv', 'E:\\\\CDAC(2024)\\\\Air Quality Project\\\\Dataset\\\\CG006.csv', 'E:\\\\CDAC(2024)\\\\Air Quality Project\\\\Dataset\\\\CG007.csv', 'E:\\\\CDAC(2024)\\\\Air Quality Project\\\\Dataset\\\\CG008.csv', 'E:\\\\CDAC(2024)\\\\Air Quality Project\\\\Dataset\\\\CG009.csv', 'E:\\\\CDAC(2024)\\\\Air Quality Project\\\\Dataset\\\\CG010.csv', 'E:\\\\CDAC(2024)\\\\Air Quality Project\\\\Dataset\\\\CG011.csv', 'E:\\\\CDAC(2024)\\\\Air Quality Project\\\\Dataset\\\\CG012.csv', 'E:\\\\CDAC(2024)\\\\Air Quality Project\\\\Dataset\\\\CG013.csv', 'E:\\\\CDAC(2024)\\\\Air Quality Project\\\\Dataset\\\\CG014.csv', 'E:\\\\CDAC(2024)\\\\Air Quality Project\\\\Dataset\\\\CH001.csv', 'E:\\\\CDAC(2024)\\\\Air Quality Project\\\\Dataset\\\\CH002.csv', 'E:\\\\CDAC(2024)\\\\Air Quality Project\\\\Dataset\\\\CH003.csv', 'E:\\\\CDAC(2024)\\\\Air Quality Project\\\\Dataset\\\\DL001.csv', 'E:\\\\CDAC(2024)\\\\Air Quality Project\\\\Dataset\\\\DL002.csv', 'E:\\\\CDAC(2024)\\\\Air Quality Project\\\\Dataset\\\\DL003.csv', 'E:\\\\CDAC(2024)\\\\Air Quality Project\\\\Dataset\\\\DL004.csv', 'E:\\\\CDAC(2024)\\\\Air Quality Project\\\\Dataset\\\\DL005.csv', 'E:\\\\CDAC(2024)\\\\Air Quality Project\\\\Dataset\\\\DL006.csv', 'E:\\\\CDAC(2024)\\\\Air Quality Project\\\\Dataset\\\\DL007.csv', 'E:\\\\CDAC(2024)\\\\Air Quality Project\\\\Dataset\\\\DL008.csv', 'E:\\\\CDAC(2024)\\\\Air Quality Project\\\\Dataset\\\\DL009.csv', 'E:\\\\CDAC(2024)\\\\Air Quality Project\\\\Dataset\\\\DL010.csv', 'E:\\\\CDAC(2024)\\\\Air Quality Project\\\\Dataset\\\\DL011.csv', 'E:\\\\CDAC(2024)\\\\Air Quality Project\\\\Dataset\\\\DL012.csv', 'E:\\\\CDAC(2024)\\\\Air Quality Project\\\\Dataset\\\\DL013.csv', 'E:\\\\CDAC(2024)\\\\Air Quality Project\\\\Dataset\\\\DL014.csv', 'E:\\\\CDAC(2024)\\\\Air Quality Project\\\\Dataset\\\\DL015.csv', 'E:\\\\CDAC(2024)\\\\Air Quality Project\\\\Dataset\\\\DL016.csv', 'E:\\\\CDAC(2024)\\\\Air Quality Project\\\\Dataset\\\\DL017.csv', 'E:\\\\CDAC(2024)\\\\Air Quality Project\\\\Dataset\\\\DL018.csv', 'E:\\\\CDAC(2024)\\\\Air Quality Project\\\\Dataset\\\\DL019.csv', 'E:\\\\CDAC(2024)\\\\Air Quality Project\\\\Dataset\\\\DL020.csv', 'E:\\\\CDAC(2024)\\\\Air Quality Project\\\\Dataset\\\\DL021.csv', 'E:\\\\CDAC(2024)\\\\Air Quality Project\\\\Dataset\\\\DL022.csv', 'E:\\\\CDAC(2024)\\\\Air Quality Project\\\\Dataset\\\\DL023.csv', 'E:\\\\CDAC(2024)\\\\Air Quality Project\\\\Dataset\\\\DL024.csv', 'E:\\\\CDAC(2024)\\\\Air Quality Project\\\\Dataset\\\\DL025.csv', 'E:\\\\CDAC(2024)\\\\Air Quality Project\\\\Dataset\\\\DL026.csv', 'E:\\\\CDAC(2024)\\\\Air Quality Project\\\\Dataset\\\\DL027.csv', 'E:\\\\CDAC(2024)\\\\Air Quality Project\\\\Dataset\\\\DL028.csv', 'E:\\\\CDAC(2024)\\\\Air Quality Project\\\\Dataset\\\\DL029.csv', 'E:\\\\CDAC(2024)\\\\Air Quality Project\\\\Dataset\\\\DL030.csv', 'E:\\\\CDAC(2024)\\\\Air Quality Project\\\\Dataset\\\\DL031.csv', 'E:\\\\CDAC(2024)\\\\Air Quality Project\\\\Dataset\\\\DL032.csv', 'E:\\\\CDAC(2024)\\\\Air Quality Project\\\\Dataset\\\\DL033.csv', 'E:\\\\CDAC(2024)\\\\Air Quality Project\\\\Dataset\\\\DL034.csv', 'E:\\\\CDAC(2024)\\\\Air Quality Project\\\\Dataset\\\\DL035.csv', 'E:\\\\CDAC(2024)\\\\Air Quality Project\\\\Dataset\\\\DL036.csv', 'E:\\\\CDAC(2024)\\\\Air Quality Project\\\\Dataset\\\\DL037.csv', 'E:\\\\CDAC(2024)\\\\Air Quality Project\\\\Dataset\\\\DL038.csv', 'E:\\\\CDAC(2024)\\\\Air Quality Project\\\\Dataset\\\\DL039.csv', 'E:\\\\CDAC(2024)\\\\Air Quality Project\\\\Dataset\\\\DL040.csv', 'E:\\\\CDAC(2024)\\\\Air Quality Project\\\\Dataset\\\\GJ001.csv', 'E:\\\\CDAC(2024)\\\\Air Quality Project\\\\Dataset\\\\GJ002.csv', 'E:\\\\CDAC(2024)\\\\Air Quality Project\\\\Dataset\\\\GJ003.csv', 'E:\\\\CDAC(2024)\\\\Air Quality Project\\\\Dataset\\\\GJ004.csv', 'E:\\\\CDAC(2024)\\\\Air Quality Project\\\\Dataset\\\\GJ005.csv', 'E:\\\\CDAC(2024)\\\\Air Quality Project\\\\Dataset\\\\GJ006.csv', 'E:\\\\CDAC(2024)\\\\Air Quality Project\\\\Dataset\\\\GJ007.csv', 'E:\\\\CDAC(2024)\\\\Air Quality Project\\\\Dataset\\\\GJ008.csv', 'E:\\\\CDAC(2024)\\\\Air Quality Project\\\\Dataset\\\\GJ009.csv', 'E:\\\\CDAC(2024)\\\\Air Quality Project\\\\Dataset\\\\GJ010.csv', 'E:\\\\CDAC(2024)\\\\Air Quality Project\\\\Dataset\\\\GJ011.csv', 'E:\\\\CDAC(2024)\\\\Air Quality Project\\\\Dataset\\\\GJ012.csv', 'E:\\\\CDAC(2024)\\\\Air Quality Project\\\\Dataset\\\\GJ013.csv', 'E:\\\\CDAC(2024)\\\\Air Quality Project\\\\Dataset\\\\GJ014.csv', 'E:\\\\CDAC(2024)\\\\Air Quality Project\\\\Dataset\\\\GJ015.csv', 'E:\\\\CDAC(2024)\\\\Air Quality Project\\\\Dataset\\\\GJ016.csv', 'E:\\\\CDAC(2024)\\\\Air Quality Project\\\\Dataset\\\\GJ017.csv', 'E:\\\\CDAC(2024)\\\\Air Quality Project\\\\Dataset\\\\HP001.csv', 'E:\\\\CDAC(2024)\\\\Air Quality Project\\\\Dataset\\\\HR001.csv', 'E:\\\\CDAC(2024)\\\\Air Quality Project\\\\Dataset\\\\HR002.csv', 'E:\\\\CDAC(2024)\\\\Air Quality Project\\\\Dataset\\\\HR003.csv', 'E:\\\\CDAC(2024)\\\\Air Quality Project\\\\Dataset\\\\HR004.csv', 'E:\\\\CDAC(2024)\\\\Air Quality Project\\\\Dataset\\\\HR005.csv', 'E:\\\\CDAC(2024)\\\\Air Quality Project\\\\Dataset\\\\HR006.csv', 'E:\\\\CDAC(2024)\\\\Air Quality Project\\\\Dataset\\\\HR007.csv', 'E:\\\\CDAC(2024)\\\\Air Quality Project\\\\Dataset\\\\HR008.csv', 'E:\\\\CDAC(2024)\\\\Air Quality Project\\\\Dataset\\\\HR009.csv', 'E:\\\\CDAC(2024)\\\\Air Quality Project\\\\Dataset\\\\HR010.csv', 'E:\\\\CDAC(2024)\\\\Air Quality Project\\\\Dataset\\\\HR011.csv', 'E:\\\\CDAC(2024)\\\\Air Quality Project\\\\Dataset\\\\HR012.csv', 'E:\\\\CDAC(2024)\\\\Air Quality Project\\\\Dataset\\\\HR013.csv', 'E:\\\\CDAC(2024)\\\\Air Quality Project\\\\Dataset\\\\HR014.csv', 'E:\\\\CDAC(2024)\\\\Air Quality Project\\\\Dataset\\\\HR015.csv', 'E:\\\\CDAC(2024)\\\\Air Quality Project\\\\Dataset\\\\HR016.csv', 'E:\\\\CDAC(2024)\\\\Air Quality Project\\\\Dataset\\\\HR017.csv', 'E:\\\\CDAC(2024)\\\\Air Quality Project\\\\Dataset\\\\HR018.csv', 'E:\\\\CDAC(2024)\\\\Air Quality Project\\\\Dataset\\\\HR019.csv', 'E:\\\\CDAC(2024)\\\\Air Quality Project\\\\Dataset\\\\HR020.csv', 'E:\\\\CDAC(2024)\\\\Air Quality Project\\\\Dataset\\\\HR021.csv', 'E:\\\\CDAC(2024)\\\\Air Quality Project\\\\Dataset\\\\HR022.csv', 'E:\\\\CDAC(2024)\\\\Air Quality Project\\\\Dataset\\\\HR023.csv', 'E:\\\\CDAC(2024)\\\\Air Quality Project\\\\Dataset\\\\HR024.csv', 'E:\\\\CDAC(2024)\\\\Air Quality Project\\\\Dataset\\\\HR025.csv', 'E:\\\\CDAC(2024)\\\\Air Quality Project\\\\Dataset\\\\HR026.csv', 'E:\\\\CDAC(2024)\\\\Air Quality Project\\\\Dataset\\\\HR027.csv', 'E:\\\\CDAC(2024)\\\\Air Quality Project\\\\Dataset\\\\HR028.csv', 'E:\\\\CDAC(2024)\\\\Air Quality Project\\\\Dataset\\\\HR029.csv', 'E:\\\\CDAC(2024)\\\\Air Quality Project\\\\Dataset\\\\HR030.csv', 'E:\\\\CDAC(2024)\\\\Air Quality Project\\\\Dataset\\\\JH001.csv', 'E:\\\\CDAC(2024)\\\\Air Quality Project\\\\Dataset\\\\JH002.csv', 'E:\\\\CDAC(2024)\\\\Air Quality Project\\\\Dataset\\\\JK001.csv', 'E:\\\\CDAC(2024)\\\\Air Quality Project\\\\Dataset\\\\KA001.csv', 'E:\\\\CDAC(2024)\\\\Air Quality Project\\\\Dataset\\\\KA002.csv', 'E:\\\\CDAC(2024)\\\\Air Quality Project\\\\Dataset\\\\KA003.csv', 'E:\\\\CDAC(2024)\\\\Air Quality Project\\\\Dataset\\\\KA004.csv', 'E:\\\\CDAC(2024)\\\\Air Quality Project\\\\Dataset\\\\KA005.csv', 'E:\\\\CDAC(2024)\\\\Air Quality Project\\\\Dataset\\\\KA006.csv', 'E:\\\\CDAC(2024)\\\\Air Quality Project\\\\Dataset\\\\KA007.csv', 'E:\\\\CDAC(2024)\\\\Air Quality Project\\\\Dataset\\\\KA008.csv', 'E:\\\\CDAC(2024)\\\\Air Quality Project\\\\Dataset\\\\KA009.csv', 'E:\\\\CDAC(2024)\\\\Air Quality Project\\\\Dataset\\\\KA010.csv', 'E:\\\\CDAC(2024)\\\\Air Quality Project\\\\Dataset\\\\KA011.csv', 'E:\\\\CDAC(2024)\\\\Air Quality Project\\\\Dataset\\\\KA012.csv', 'E:\\\\CDAC(2024)\\\\Air Quality Project\\\\Dataset\\\\KA013.csv', 'E:\\\\CDAC(2024)\\\\Air Quality Project\\\\Dataset\\\\KA014.csv', 'E:\\\\CDAC(2024)\\\\Air Quality Project\\\\Dataset\\\\KA015.csv', 'E:\\\\CDAC(2024)\\\\Air Quality Project\\\\Dataset\\\\KA016.csv', 'E:\\\\CDAC(2024)\\\\Air Quality Project\\\\Dataset\\\\KA017.csv', 'E:\\\\CDAC(2024)\\\\Air Quality Project\\\\Dataset\\\\KA018.csv', 'E:\\\\CDAC(2024)\\\\Air Quality Project\\\\Dataset\\\\KA019.csv', 'E:\\\\CDAC(2024)\\\\Air Quality Project\\\\Dataset\\\\KA020.csv', 'E:\\\\CDAC(2024)\\\\Air Quality Project\\\\Dataset\\\\KA021.csv', 'E:\\\\CDAC(2024)\\\\Air Quality Project\\\\Dataset\\\\KA022.csv', 'E:\\\\CDAC(2024)\\\\Air Quality Project\\\\Dataset\\\\KA023.csv', 'E:\\\\CDAC(2024)\\\\Air Quality Project\\\\Dataset\\\\KA024.csv', 'E:\\\\CDAC(2024)\\\\Air Quality Project\\\\Dataset\\\\KA025.csv', 'E:\\\\CDAC(2024)\\\\Air Quality Project\\\\Dataset\\\\KA026.csv', 'E:\\\\CDAC(2024)\\\\Air Quality Project\\\\Dataset\\\\KA027.csv', 'E:\\\\CDAC(2024)\\\\Air Quality Project\\\\Dataset\\\\KA028.csv', 'E:\\\\CDAC(2024)\\\\Air Quality Project\\\\Dataset\\\\KA029.csv', 'E:\\\\CDAC(2024)\\\\Air Quality Project\\\\Dataset\\\\KA030.csv', 'E:\\\\CDAC(2024)\\\\Air Quality Project\\\\Dataset\\\\KA031.csv', 'E:\\\\CDAC(2024)\\\\Air Quality Project\\\\Dataset\\\\KA032.csv', 'E:\\\\CDAC(2024)\\\\Air Quality Project\\\\Dataset\\\\KA033.csv', 'E:\\\\CDAC(2024)\\\\Air Quality Project\\\\Dataset\\\\KA034.csv', 'E:\\\\CDAC(2024)\\\\Air Quality Project\\\\Dataset\\\\KA035.csv', 'E:\\\\CDAC(2024)\\\\Air Quality Project\\\\Dataset\\\\KA036.csv', 'E:\\\\CDAC(2024)\\\\Air Quality Project\\\\Dataset\\\\KA037.csv', 'E:\\\\CDAC(2024)\\\\Air Quality Project\\\\Dataset\\\\KA038.csv', 'E:\\\\CDAC(2024)\\\\Air Quality Project\\\\Dataset\\\\KA039.csv', 'E:\\\\CDAC(2024)\\\\Air Quality Project\\\\Dataset\\\\KL001.csv', 'E:\\\\CDAC(2024)\\\\Air Quality Project\\\\Dataset\\\\KL002.csv', 'E:\\\\CDAC(2024)\\\\Air Quality Project\\\\Dataset\\\\KL003.csv', 'E:\\\\CDAC(2024)\\\\Air Quality Project\\\\Dataset\\\\KL004.csv', 'E:\\\\CDAC(2024)\\\\Air Quality Project\\\\Dataset\\\\KL005.csv', 'E:\\\\CDAC(2024)\\\\Air Quality Project\\\\Dataset\\\\KL006.csv', 'E:\\\\CDAC(2024)\\\\Air Quality Project\\\\Dataset\\\\KL007.csv', 'E:\\\\CDAC(2024)\\\\Air Quality Project\\\\Dataset\\\\KL008.csv', 'E:\\\\CDAC(2024)\\\\Air Quality Project\\\\Dataset\\\\KL009.csv', 'E:\\\\CDAC(2024)\\\\Air Quality Project\\\\Dataset\\\\MH001.csv', 'E:\\\\CDAC(2024)\\\\Air Quality Project\\\\Dataset\\\\MH002.csv', 'E:\\\\CDAC(2024)\\\\Air Quality Project\\\\Dataset\\\\MH003.csv', 'E:\\\\CDAC(2024)\\\\Air Quality Project\\\\Dataset\\\\MH004.csv', 'E:\\\\CDAC(2024)\\\\Air Quality Project\\\\Dataset\\\\MH005.csv', 'E:\\\\CDAC(2024)\\\\Air Quality Project\\\\Dataset\\\\MH006.csv', 'E:\\\\CDAC(2024)\\\\Air Quality Project\\\\Dataset\\\\MH007.csv', 'E:\\\\CDAC(2024)\\\\Air Quality Project\\\\Dataset\\\\MH008.csv', 'E:\\\\CDAC(2024)\\\\Air Quality Project\\\\Dataset\\\\MH009.csv', 'E:\\\\CDAC(2024)\\\\Air Quality Project\\\\Dataset\\\\MH010.csv', 'E:\\\\CDAC(2024)\\\\Air Quality Project\\\\Dataset\\\\MH011.csv', 'E:\\\\CDAC(2024)\\\\Air Quality Project\\\\Dataset\\\\MH012.csv', 'E:\\\\CDAC(2024)\\\\Air Quality Project\\\\Dataset\\\\MH013.csv', 'E:\\\\CDAC(2024)\\\\Air Quality Project\\\\Dataset\\\\MH014.csv', 'E:\\\\CDAC(2024)\\\\Air Quality Project\\\\Dataset\\\\MH015.csv', 'E:\\\\CDAC(2024)\\\\Air Quality Project\\\\Dataset\\\\MH016.csv', 'E:\\\\CDAC(2024)\\\\Air Quality Project\\\\Dataset\\\\MH017.csv', 'E:\\\\CDAC(2024)\\\\Air Quality Project\\\\Dataset\\\\MH018.csv', 'E:\\\\CDAC(2024)\\\\Air Quality Project\\\\Dataset\\\\MH019.csv', 'E:\\\\CDAC(2024)\\\\Air Quality Project\\\\Dataset\\\\MH020.csv', 'E:\\\\CDAC(2024)\\\\Air Quality Project\\\\Dataset\\\\MH021.csv', 'E:\\\\CDAC(2024)\\\\Air Quality Project\\\\Dataset\\\\MH022.csv', 'E:\\\\CDAC(2024)\\\\Air Quality Project\\\\Dataset\\\\MH023.csv', 'E:\\\\CDAC(2024)\\\\Air Quality Project\\\\Dataset\\\\MH024.csv', 'E:\\\\CDAC(2024)\\\\Air Quality Project\\\\Dataset\\\\MH025.csv', 'E:\\\\CDAC(2024)\\\\Air Quality Project\\\\Dataset\\\\MH026.csv', 'E:\\\\CDAC(2024)\\\\Air Quality Project\\\\Dataset\\\\MH027.csv', 'E:\\\\CDAC(2024)\\\\Air Quality Project\\\\Dataset\\\\MH028.csv', 'E:\\\\CDAC(2024)\\\\Air Quality Project\\\\Dataset\\\\MH029.csv', 'E:\\\\CDAC(2024)\\\\Air Quality Project\\\\Dataset\\\\MH030.csv', 'E:\\\\CDAC(2024)\\\\Air Quality Project\\\\Dataset\\\\MH031.csv', 'E:\\\\CDAC(2024)\\\\Air Quality Project\\\\Dataset\\\\MH032.csv', 'E:\\\\CDAC(2024)\\\\Air Quality Project\\\\Dataset\\\\MH033.csv', 'E:\\\\CDAC(2024)\\\\Air Quality Project\\\\Dataset\\\\MH034.csv', 'E:\\\\CDAC(2024)\\\\Air Quality Project\\\\Dataset\\\\MH035.csv', 'E:\\\\CDAC(2024)\\\\Air Quality Project\\\\Dataset\\\\MH036.csv', 'E:\\\\CDAC(2024)\\\\Air Quality Project\\\\Dataset\\\\MH037.csv', 'E:\\\\CDAC(2024)\\\\Air Quality Project\\\\Dataset\\\\MH038.csv', 'E:\\\\CDAC(2024)\\\\Air Quality Project\\\\Dataset\\\\MH039.csv', 'E:\\\\CDAC(2024)\\\\Air Quality Project\\\\Dataset\\\\MH040.csv', 'E:\\\\CDAC(2024)\\\\Air Quality Project\\\\Dataset\\\\MH041.csv', 'E:\\\\CDAC(2024)\\\\Air Quality Project\\\\Dataset\\\\ML001.csv', 'E:\\\\CDAC(2024)\\\\Air Quality Project\\\\Dataset\\\\ML002.csv', 'E:\\\\CDAC(2024)\\\\Air Quality Project\\\\Dataset\\\\MN001.csv', 'E:\\\\CDAC(2024)\\\\Air Quality Project\\\\Dataset\\\\MN002.csv', 'E:\\\\CDAC(2024)\\\\Air Quality Project\\\\Dataset\\\\MP001.csv', 'E:\\\\CDAC(2024)\\\\Air Quality Project\\\\Dataset\\\\MP002.csv', 'E:\\\\CDAC(2024)\\\\Air Quality Project\\\\Dataset\\\\MP003.csv', 'E:\\\\CDAC(2024)\\\\Air Quality Project\\\\Dataset\\\\MP004.csv', 'E:\\\\CDAC(2024)\\\\Air Quality Project\\\\Dataset\\\\MP005.csv', 'E:\\\\CDAC(2024)\\\\Air Quality Project\\\\Dataset\\\\MP006.csv', 'E:\\\\CDAC(2024)\\\\Air Quality Project\\\\Dataset\\\\MP007.csv', 'E:\\\\CDAC(2024)\\\\Air Quality Project\\\\Dataset\\\\MP008.csv', 'E:\\\\CDAC(2024)\\\\Air Quality Project\\\\Dataset\\\\MP009.csv', 'E:\\\\CDAC(2024)\\\\Air Quality Project\\\\Dataset\\\\MP010.csv', 'E:\\\\CDAC(2024)\\\\Air Quality Project\\\\Dataset\\\\MP011.csv', 'E:\\\\CDAC(2024)\\\\Air Quality Project\\\\Dataset\\\\MP012.csv', 'E:\\\\CDAC(2024)\\\\Air Quality Project\\\\Dataset\\\\MP013.csv', 'E:\\\\CDAC(2024)\\\\Air Quality Project\\\\Dataset\\\\MP014.csv', 'E:\\\\CDAC(2024)\\\\Air Quality Project\\\\Dataset\\\\MP015.csv', 'E:\\\\CDAC(2024)\\\\Air Quality Project\\\\Dataset\\\\MP016.csv', 'E:\\\\CDAC(2024)\\\\Air Quality Project\\\\Dataset\\\\MP017.csv', 'E:\\\\CDAC(2024)\\\\Air Quality Project\\\\Dataset\\\\MP018.csv', 'E:\\\\CDAC(2024)\\\\Air Quality Project\\\\Dataset\\\\MP019.csv', 'E:\\\\CDAC(2024)\\\\Air Quality Project\\\\Dataset\\\\MP020.csv', 'E:\\\\CDAC(2024)\\\\Air Quality Project\\\\Dataset\\\\MP021.csv', 'E:\\\\CDAC(2024)\\\\Air Quality Project\\\\Dataset\\\\MP022.csv', 'E:\\\\CDAC(2024)\\\\Air Quality Project\\\\Dataset\\\\MZ001.csv', 'E:\\\\CDAC(2024)\\\\Air Quality Project\\\\Dataset\\\\NL001.csv', 'E:\\\\CDAC(2024)\\\\Air Quality Project\\\\Dataset\\\\OR001.csv', 'E:\\\\CDAC(2024)\\\\Air Quality Project\\\\Dataset\\\\OR002.csv', 'E:\\\\CDAC(2024)\\\\Air Quality Project\\\\Dataset\\\\OR003.csv', 'E:\\\\CDAC(2024)\\\\Air Quality Project\\\\Dataset\\\\OR004.csv', 'E:\\\\CDAC(2024)\\\\Air Quality Project\\\\Dataset\\\\OR005.csv', 'E:\\\\CDAC(2024)\\\\Air Quality Project\\\\Dataset\\\\OR006.csv', 'E:\\\\CDAC(2024)\\\\Air Quality Project\\\\Dataset\\\\OR007.csv', 'E:\\\\CDAC(2024)\\\\Air Quality Project\\\\Dataset\\\\OR008.csv', 'E:\\\\CDAC(2024)\\\\Air Quality Project\\\\Dataset\\\\OR009.csv', 'E:\\\\CDAC(2024)\\\\Air Quality Project\\\\Dataset\\\\OR010.csv', 'E:\\\\CDAC(2024)\\\\Air Quality Project\\\\Dataset\\\\OR011.csv', 'E:\\\\CDAC(2024)\\\\Air Quality Project\\\\Dataset\\\\OR012.csv', 'E:\\\\CDAC(2024)\\\\Air Quality Project\\\\Dataset\\\\PB001.csv', 'E:\\\\CDAC(2024)\\\\Air Quality Project\\\\Dataset\\\\PB002.csv', 'E:\\\\CDAC(2024)\\\\Air Quality Project\\\\Dataset\\\\PB003.csv', 'E:\\\\CDAC(2024)\\\\Air Quality Project\\\\Dataset\\\\PB004.csv', 'E:\\\\CDAC(2024)\\\\Air Quality Project\\\\Dataset\\\\PB005.csv', 'E:\\\\CDAC(2024)\\\\Air Quality Project\\\\Dataset\\\\PB006.csv', 'E:\\\\CDAC(2024)\\\\Air Quality Project\\\\Dataset\\\\PB007.csv', 'E:\\\\CDAC(2024)\\\\Air Quality Project\\\\Dataset\\\\PB008.csv', 'E:\\\\CDAC(2024)\\\\Air Quality Project\\\\Dataset\\\\PY001.csv', 'E:\\\\CDAC(2024)\\\\Air Quality Project\\\\Dataset\\\\RJ001.csv', 'E:\\\\CDAC(2024)\\\\Air Quality Project\\\\Dataset\\\\RJ002.csv', 'E:\\\\CDAC(2024)\\\\Air Quality Project\\\\Dataset\\\\RJ003.csv', 'E:\\\\CDAC(2024)\\\\Air Quality Project\\\\Dataset\\\\RJ004.csv', 'E:\\\\CDAC(2024)\\\\Air Quality Project\\\\Dataset\\\\RJ005.csv', 'E:\\\\CDAC(2024)\\\\Air Quality Project\\\\Dataset\\\\RJ006.csv', 'E:\\\\CDAC(2024)\\\\Air Quality Project\\\\Dataset\\\\RJ007.csv', 'E:\\\\CDAC(2024)\\\\Air Quality Project\\\\Dataset\\\\RJ008.csv', 'E:\\\\CDAC(2024)\\\\Air Quality Project\\\\Dataset\\\\RJ009.csv', 'E:\\\\CDAC(2024)\\\\Air Quality Project\\\\Dataset\\\\RJ010.csv', 'E:\\\\CDAC(2024)\\\\Air Quality Project\\\\Dataset\\\\RJ011.csv', 'E:\\\\CDAC(2024)\\\\Air Quality Project\\\\Dataset\\\\RJ012.csv', 'E:\\\\CDAC(2024)\\\\Air Quality Project\\\\Dataset\\\\RJ013.csv', 'E:\\\\CDAC(2024)\\\\Air Quality Project\\\\Dataset\\\\RJ014.csv', 'E:\\\\CDAC(2024)\\\\Air Quality Project\\\\Dataset\\\\RJ015.csv', 'E:\\\\CDAC(2024)\\\\Air Quality Project\\\\Dataset\\\\RJ016.csv', 'E:\\\\CDAC(2024)\\\\Air Quality Project\\\\Dataset\\\\RJ017.csv', 'E:\\\\CDAC(2024)\\\\Air Quality Project\\\\Dataset\\\\RJ018.csv', 'E:\\\\CDAC(2024)\\\\Air Quality Project\\\\Dataset\\\\RJ019.csv', 'E:\\\\CDAC(2024)\\\\Air Quality Project\\\\Dataset\\\\RJ020.csv', 'E:\\\\CDAC(2024)\\\\Air Quality Project\\\\Dataset\\\\RJ021.csv', 'E:\\\\CDAC(2024)\\\\Air Quality Project\\\\Dataset\\\\RJ022.csv', 'E:\\\\CDAC(2024)\\\\Air Quality Project\\\\Dataset\\\\RJ023.csv', 'E:\\\\CDAC(2024)\\\\Air Quality Project\\\\Dataset\\\\RJ024.csv', 'E:\\\\CDAC(2024)\\\\Air Quality Project\\\\Dataset\\\\RJ025.csv', 'E:\\\\CDAC(2024)\\\\Air Quality Project\\\\Dataset\\\\RJ026.csv', 'E:\\\\CDAC(2024)\\\\Air Quality Project\\\\Dataset\\\\RJ027.csv', 'E:\\\\CDAC(2024)\\\\Air Quality Project\\\\Dataset\\\\RJ028.csv', 'E:\\\\CDAC(2024)\\\\Air Quality Project\\\\Dataset\\\\RJ029.csv', 'E:\\\\CDAC(2024)\\\\Air Quality Project\\\\Dataset\\\\RJ030.csv', 'E:\\\\CDAC(2024)\\\\Air Quality Project\\\\Dataset\\\\RJ031.csv', 'E:\\\\CDAC(2024)\\\\Air Quality Project\\\\Dataset\\\\RJ032.csv', 'E:\\\\CDAC(2024)\\\\Air Quality Project\\\\Dataset\\\\RJ033.csv', 'E:\\\\CDAC(2024)\\\\Air Quality Project\\\\Dataset\\\\RJ034.csv', 'E:\\\\CDAC(2024)\\\\Air Quality Project\\\\Dataset\\\\RJ035.csv', 'E:\\\\CDAC(2024)\\\\Air Quality Project\\\\Dataset\\\\SK001.csv', 'E:\\\\CDAC(2024)\\\\Air Quality Project\\\\Dataset\\\\TG001.csv', 'E:\\\\CDAC(2024)\\\\Air Quality Project\\\\Dataset\\\\TG002.csv', 'E:\\\\CDAC(2024)\\\\Air Quality Project\\\\Dataset\\\\TG003.csv', 'E:\\\\CDAC(2024)\\\\Air Quality Project\\\\Dataset\\\\TG004.csv', 'E:\\\\CDAC(2024)\\\\Air Quality Project\\\\Dataset\\\\TG005.csv', 'E:\\\\CDAC(2024)\\\\Air Quality Project\\\\Dataset\\\\TG006.csv', 'E:\\\\CDAC(2024)\\\\Air Quality Project\\\\Dataset\\\\TG007.csv', 'E:\\\\CDAC(2024)\\\\Air Quality Project\\\\Dataset\\\\TG008.csv', 'E:\\\\CDAC(2024)\\\\Air Quality Project\\\\Dataset\\\\TG009.csv', 'E:\\\\CDAC(2024)\\\\Air Quality Project\\\\Dataset\\\\TG010.csv', 'E:\\\\CDAC(2024)\\\\Air Quality Project\\\\Dataset\\\\TG011.csv', 'E:\\\\CDAC(2024)\\\\Air Quality Project\\\\Dataset\\\\TG012.csv', 'E:\\\\CDAC(2024)\\\\Air Quality Project\\\\Dataset\\\\TG013.csv', 'E:\\\\CDAC(2024)\\\\Air Quality Project\\\\Dataset\\\\TG014.csv', 'E:\\\\CDAC(2024)\\\\Air Quality Project\\\\Dataset\\\\TN001.csv', 'E:\\\\CDAC(2024)\\\\Air Quality Project\\\\Dataset\\\\TN002.csv', 'E:\\\\CDAC(2024)\\\\Air Quality Project\\\\Dataset\\\\TN003.csv', 'E:\\\\CDAC(2024)\\\\Air Quality Project\\\\Dataset\\\\TN004.csv', 'E:\\\\CDAC(2024)\\\\Air Quality Project\\\\Dataset\\\\TN005.csv', 'E:\\\\CDAC(2024)\\\\Air Quality Project\\\\Dataset\\\\TN006.csv', 'E:\\\\CDAC(2024)\\\\Air Quality Project\\\\Dataset\\\\TN007.csv', 'E:\\\\CDAC(2024)\\\\Air Quality Project\\\\Dataset\\\\TN008.csv', 'E:\\\\CDAC(2024)\\\\Air Quality Project\\\\Dataset\\\\TN009.csv', 'E:\\\\CDAC(2024)\\\\Air Quality Project\\\\Dataset\\\\TN010.csv', 'E:\\\\CDAC(2024)\\\\Air Quality Project\\\\Dataset\\\\TN011.csv', 'E:\\\\CDAC(2024)\\\\Air Quality Project\\\\Dataset\\\\TN012.csv', 'E:\\\\CDAC(2024)\\\\Air Quality Project\\\\Dataset\\\\TN013.csv', 'E:\\\\CDAC(2024)\\\\Air Quality Project\\\\Dataset\\\\TN014.csv', 'E:\\\\CDAC(2024)\\\\Air Quality Project\\\\Dataset\\\\TN015.csv', 'E:\\\\CDAC(2024)\\\\Air Quality Project\\\\Dataset\\\\TN016.csv', 'E:\\\\CDAC(2024)\\\\Air Quality Project\\\\Dataset\\\\TN017.csv', 'E:\\\\CDAC(2024)\\\\Air Quality Project\\\\Dataset\\\\TN018.csv', 'E:\\\\CDAC(2024)\\\\Air Quality Project\\\\Dataset\\\\TN019.csv', 'E:\\\\CDAC(2024)\\\\Air Quality Project\\\\Dataset\\\\TN020.csv', 'E:\\\\CDAC(2024)\\\\Air Quality Project\\\\Dataset\\\\TN021.csv', 'E:\\\\CDAC(2024)\\\\Air Quality Project\\\\Dataset\\\\TN022.csv', 'E:\\\\CDAC(2024)\\\\Air Quality Project\\\\Dataset\\\\TN023.csv', 'E:\\\\CDAC(2024)\\\\Air Quality Project\\\\Dataset\\\\TN024.csv', 'E:\\\\CDAC(2024)\\\\Air Quality Project\\\\Dataset\\\\TN025.csv', 'E:\\\\CDAC(2024)\\\\Air Quality Project\\\\Dataset\\\\TN026.csv', 'E:\\\\CDAC(2024)\\\\Air Quality Project\\\\Dataset\\\\TR001.csv', 'E:\\\\CDAC(2024)\\\\Air Quality Project\\\\Dataset\\\\TR002.csv', 'E:\\\\CDAC(2024)\\\\Air Quality Project\\\\Dataset\\\\UK001.csv', 'E:\\\\CDAC(2024)\\\\Air Quality Project\\\\Dataset\\\\UK002.csv', 'E:\\\\CDAC(2024)\\\\Air Quality Project\\\\Dataset\\\\UK003.csv', 'E:\\\\CDAC(2024)\\\\Air Quality Project\\\\Dataset\\\\UP001.csv', 'E:\\\\CDAC(2024)\\\\Air Quality Project\\\\Dataset\\\\UP002.csv', 'E:\\\\CDAC(2024)\\\\Air Quality Project\\\\Dataset\\\\UP003.csv', 'E:\\\\CDAC(2024)\\\\Air Quality Project\\\\Dataset\\\\UP004.csv', 'E:\\\\CDAC(2024)\\\\Air Quality Project\\\\Dataset\\\\UP005.csv', 'E:\\\\CDAC(2024)\\\\Air Quality Project\\\\Dataset\\\\UP006.csv', 'E:\\\\CDAC(2024)\\\\Air Quality Project\\\\Dataset\\\\UP007.csv', 'E:\\\\CDAC(2024)\\\\Air Quality Project\\\\Dataset\\\\UP008.csv', 'E:\\\\CDAC(2024)\\\\Air Quality Project\\\\Dataset\\\\UP009.csv', 'E:\\\\CDAC(2024)\\\\Air Quality Project\\\\Dataset\\\\UP010.csv', 'E:\\\\CDAC(2024)\\\\Air Quality Project\\\\Dataset\\\\UP011.csv', 'E:\\\\CDAC(2024)\\\\Air Quality Project\\\\Dataset\\\\UP012.csv', 'E:\\\\CDAC(2024)\\\\Air Quality Project\\\\Dataset\\\\UP013.csv', 'E:\\\\CDAC(2024)\\\\Air Quality Project\\\\Dataset\\\\UP014.csv', 'E:\\\\CDAC(2024)\\\\Air Quality Project\\\\Dataset\\\\UP015.csv', 'E:\\\\CDAC(2024)\\\\Air Quality Project\\\\Dataset\\\\UP016.csv', 'E:\\\\CDAC(2024)\\\\Air Quality Project\\\\Dataset\\\\UP017.csv', 'E:\\\\CDAC(2024)\\\\Air Quality Project\\\\Dataset\\\\UP018.csv', 'E:\\\\CDAC(2024)\\\\Air Quality Project\\\\Dataset\\\\UP019.csv', 'E:\\\\CDAC(2024)\\\\Air Quality Project\\\\Dataset\\\\UP020.csv', 'E:\\\\CDAC(2024)\\\\Air Quality Project\\\\Dataset\\\\UP021.csv', 'E:\\\\CDAC(2024)\\\\Air Quality Project\\\\Dataset\\\\UP022.csv', 'E:\\\\CDAC(2024)\\\\Air Quality Project\\\\Dataset\\\\UP023.csv', 'E:\\\\CDAC(2024)\\\\Air Quality Project\\\\Dataset\\\\UP024.csv', 'E:\\\\CDAC(2024)\\\\Air Quality Project\\\\Dataset\\\\UP025.csv', 'E:\\\\CDAC(2024)\\\\Air Quality Project\\\\Dataset\\\\UP026.csv', 'E:\\\\CDAC(2024)\\\\Air Quality Project\\\\Dataset\\\\UP027.csv', 'E:\\\\CDAC(2024)\\\\Air Quality Project\\\\Dataset\\\\UP028.csv', 'E:\\\\CDAC(2024)\\\\Air Quality Project\\\\Dataset\\\\UP029.csv', 'E:\\\\CDAC(2024)\\\\Air Quality Project\\\\Dataset\\\\UP030.csv', 'E:\\\\CDAC(2024)\\\\Air Quality Project\\\\Dataset\\\\UP031.csv', 'E:\\\\CDAC(2024)\\\\Air Quality Project\\\\Dataset\\\\UP032.csv', 'E:\\\\CDAC(2024)\\\\Air Quality Project\\\\Dataset\\\\UP033.csv', 'E:\\\\CDAC(2024)\\\\Air Quality Project\\\\Dataset\\\\UP034.csv', 'E:\\\\CDAC(2024)\\\\Air Quality Project\\\\Dataset\\\\UP035.csv', 'E:\\\\CDAC(2024)\\\\Air Quality Project\\\\Dataset\\\\UP036.csv', 'E:\\\\CDAC(2024)\\\\Air Quality Project\\\\Dataset\\\\UP037.csv', 'E:\\\\CDAC(2024)\\\\Air Quality Project\\\\Dataset\\\\UP038.csv', 'E:\\\\CDAC(2024)\\\\Air Quality Project\\\\Dataset\\\\UP039.csv', 'E:\\\\CDAC(2024)\\\\Air Quality Project\\\\Dataset\\\\UP040.csv', 'E:\\\\CDAC(2024)\\\\Air Quality Project\\\\Dataset\\\\UP041.csv', 'E:\\\\CDAC(2024)\\\\Air Quality Project\\\\Dataset\\\\UP042.csv', 'E:\\\\CDAC(2024)\\\\Air Quality Project\\\\Dataset\\\\UP043.csv', 'E:\\\\CDAC(2024)\\\\Air Quality Project\\\\Dataset\\\\UP044.csv', 'E:\\\\CDAC(2024)\\\\Air Quality Project\\\\Dataset\\\\UP045.csv', 'E:\\\\CDAC(2024)\\\\Air Quality Project\\\\Dataset\\\\UP046.csv', 'E:\\\\CDAC(2024)\\\\Air Quality Project\\\\Dataset\\\\UP047.csv', 'E:\\\\CDAC(2024)\\\\Air Quality Project\\\\Dataset\\\\UP048.csv', 'E:\\\\CDAC(2024)\\\\Air Quality Project\\\\Dataset\\\\UP049.csv', 'E:\\\\CDAC(2024)\\\\Air Quality Project\\\\Dataset\\\\UP050.csv', 'E:\\\\CDAC(2024)\\\\Air Quality Project\\\\Dataset\\\\UP051.csv', 'E:\\\\CDAC(2024)\\\\Air Quality Project\\\\Dataset\\\\UP052.csv', 'E:\\\\CDAC(2024)\\\\Air Quality Project\\\\Dataset\\\\UP053.csv', 'E:\\\\CDAC(2024)\\\\Air Quality Project\\\\Dataset\\\\UP054.csv', 'E:\\\\CDAC(2024)\\\\Air Quality Project\\\\Dataset\\\\UP055.csv', 'E:\\\\CDAC(2024)\\\\Air Quality Project\\\\Dataset\\\\UP056.csv', 'E:\\\\CDAC(2024)\\\\Air Quality Project\\\\Dataset\\\\UP057.csv', 'E:\\\\CDAC(2024)\\\\Air Quality Project\\\\Dataset\\\\WB001.csv', 'E:\\\\CDAC(2024)\\\\Air Quality Project\\\\Dataset\\\\WB002.csv', 'E:\\\\CDAC(2024)\\\\Air Quality Project\\\\Dataset\\\\WB003.csv', 'E:\\\\CDAC(2024)\\\\Air Quality Project\\\\Dataset\\\\WB004.csv', 'E:\\\\CDAC(2024)\\\\Air Quality Project\\\\Dataset\\\\WB005.csv', 'E:\\\\CDAC(2024)\\\\Air Quality Project\\\\Dataset\\\\WB006.csv', 'E:\\\\CDAC(2024)\\\\Air Quality Project\\\\Dataset\\\\WB007.csv', 'E:\\\\CDAC(2024)\\\\Air Quality Project\\\\Dataset\\\\WB008.csv', 'E:\\\\CDAC(2024)\\\\Air Quality Project\\\\Dataset\\\\WB009.csv', 'E:\\\\CDAC(2024)\\\\Air Quality Project\\\\Dataset\\\\WB010.csv', 'E:\\\\CDAC(2024)\\\\Air Quality Project\\\\Dataset\\\\WB011.csv', 'E:\\\\CDAC(2024)\\\\Air Quality Project\\\\Dataset\\\\WB012.csv', 'E:\\\\CDAC(2024)\\\\Air Quality Project\\\\Dataset\\\\WB013.csv', 'E:\\\\CDAC(2024)\\\\Air Quality Project\\\\Dataset\\\\WB014.csv']\n"
     ]
    }
   ],
   "source": [
    "import os\n",
    "import glob\n",
    "import pandas as pd\n",
    "\n",
    "# Load the stations_info.csv file into a dataframe\n",
    "stations_info = pd.read_csv('E:\\CDAC(2024)\\Air Quality Project\\Dataset\\stations_info.csv')\n",
    "\n",
    "# Get a list of all files with the pattern *.csv (assuming they are in the same directory)\n",
    "\n",
    "#files = glob.glob('E:\\CDAC(2024)\\Air Quality Project\\Dataset2\\*.csv')\n",
    "files = [file for file in glob.glob('E:\\\\CDAC(2024)\\\\Air Quality Project\\\\Dataset\\\\*.csv') if file!= 'E:\\\\CDAC(2024)\\\\Air Quality Project\\\\Dataset\\\\stations_info.csv']\n",
    "\n",
    "print(files)"
   ]
  },
  {
   "cell_type": "code",
   "execution_count": 6,
   "id": "e511ae3a",
   "metadata": {},
   "outputs": [],
   "source": [
    "# Loop over each file\n",
    "for file in files:\n",
    "    # Extract the filename without extension\n",
    "    filename = file.split(\"\\\\\")[4]\n",
    "    filename = filename.split(\".\")[0]\n",
    "    # Load the file into a dataframe\n",
    "    df = pd.read_csv(file)\n",
    "    \n",
    "    # Add a column 'file_name' to the dataframe with the filename\n",
    "    df['file_name'] = filename\n",
    "    \n",
    "    # Merge the state and city columns from stations_info into the dataframe\n",
    "    df_merged = df.merge(stations_info[['file_name', 'state', 'city','station_location']], on='file_name', how='left')\n",
    "    \n",
    "    # Drop the 'file_name' column\n",
    "    df_merged.drop('file_name', axis=1, inplace=True)\n",
    "    \n",
    "    # Save the merged dataframe back to the original file\n",
    "    df_merged.to_csv(file, index=False)"
   ]
  },
  {
   "cell_type": "markdown",
   "id": "72017b24",
   "metadata": {},
   "source": [
    "## 2. Now Merge files according to their name"
   ]
  },
  {
   "cell_type": "code",
   "execution_count": 7,
   "id": "d6751a1b",
   "metadata": {},
   "outputs": [],
   "source": [
    "def merge_files_by_prefix(directory, output_directory):\n",
    "    # Check if the output directory exists, if not create it\n",
    "    if not os.path.exists(output_directory):\n",
    "        os.makedirs(output_directory)\n",
    "    \n",
    "    # Change to the specified directory\n",
    "    os.chdir(directory)\n",
    "    \n",
    "    # Get a list of all CSV files in the directory\n",
    "    all_files = [f for f in os.listdir() if f.endswith('.csv')]\n",
    "    \n",
    "    # Create a set of unique prefixes\n",
    "    prefixes = set(f[:2] for f in all_files)\n",
    "    \n",
    "    # Loop through each prefix and merge corresponding files\n",
    "    for prefix in prefixes:\n",
    "        # Filter files starting with the current prefix\n",
    "        files_to_merge = [f for f in all_files if f.startswith(prefix)]\n",
    "        \n",
    "        # Initialize a list to hold the dataframes\n",
    "        dfs = []\n",
    "        \n",
    "        # Read each file and append its dataframe to the list\n",
    "        for file in files_to_merge:\n",
    "            df = pd.read_csv(file)\n",
    "            dfs.append(df)\n",
    "        \n",
    "        # Concatenate all dataframes into a single dataframe\n",
    "        if dfs:\n",
    "            merged_df = pd.concat(dfs, ignore_index=True)\n",
    "            \n",
    "            # Save the merged dataframe to a new CSV file named after the prefix\n",
    "            # in the output directory\n",
    "            merged_file_name = f\"{prefix}_merged.csv\"\n",
    "            output_file_path = os.path.join(output_directory, merged_file_name)\n",
    "            merged_df.to_csv(output_file_path, index=False)\n",
    "            print(f\"Merged files for prefix '{prefix}' into '{output_file_path}'.\")\n"
   ]
  },
  {
   "cell_type": "code",
   "execution_count": 8,
   "id": "e3308c2d",
   "metadata": {},
   "outputs": [
    {
     "name": "stdout",
     "output_type": "stream",
     "text": [
      "Merged files for prefix 'GJ' into 'E:\\CDAC(2024)\\Air Quality Project\\Merged Files\\GJ_merged.csv'.\n",
      "Merged files for prefix 'PB' into 'E:\\CDAC(2024)\\Air Quality Project\\Merged Files\\PB_merged.csv'.\n",
      "Merged files for prefix 'MN' into 'E:\\CDAC(2024)\\Air Quality Project\\Merged Files\\MN_merged.csv'.\n",
      "Merged files for prefix 'WB' into 'E:\\CDAC(2024)\\Air Quality Project\\Merged Files\\WB_merged.csv'.\n",
      "Merged files for prefix 'st' into 'E:\\CDAC(2024)\\Air Quality Project\\Merged Files\\st_merged.csv'.\n",
      "Merged files for prefix 'CH' into 'E:\\CDAC(2024)\\Air Quality Project\\Merged Files\\CH_merged.csv'.\n",
      "Merged files for prefix 'JH' into 'E:\\CDAC(2024)\\Air Quality Project\\Merged Files\\JH_merged.csv'.\n",
      "Merged files for prefix 'KL' into 'E:\\CDAC(2024)\\Air Quality Project\\Merged Files\\KL_merged.csv'.\n",
      "Merged files for prefix 'KA' into 'E:\\CDAC(2024)\\Air Quality Project\\Merged Files\\KA_merged.csv'.\n",
      "Merged files for prefix 'AS' into 'E:\\CDAC(2024)\\Air Quality Project\\Merged Files\\AS_merged.csv'.\n",
      "Merged files for prefix 'UK' into 'E:\\CDAC(2024)\\Air Quality Project\\Merged Files\\UK_merged.csv'.\n",
      "Merged files for prefix 'JK' into 'E:\\CDAC(2024)\\Air Quality Project\\Merged Files\\JK_merged.csv'.\n",
      "Merged files for prefix 'RJ' into 'E:\\CDAC(2024)\\Air Quality Project\\Merged Files\\RJ_merged.csv'.\n",
      "Merged files for prefix 'NL' into 'E:\\CDAC(2024)\\Air Quality Project\\Merged Files\\NL_merged.csv'.\n",
      "Merged files for prefix 'HR' into 'E:\\CDAC(2024)\\Air Quality Project\\Merged Files\\HR_merged.csv'.\n",
      "Merged files for prefix 'OR' into 'E:\\CDAC(2024)\\Air Quality Project\\Merged Files\\OR_merged.csv'.\n",
      "Merged files for prefix 'TR' into 'E:\\CDAC(2024)\\Air Quality Project\\Merged Files\\TR_merged.csv'.\n",
      "Merged files for prefix 'BR' into 'E:\\CDAC(2024)\\Air Quality Project\\Merged Files\\BR_merged.csv'.\n",
      "Merged files for prefix 'AP' into 'E:\\CDAC(2024)\\Air Quality Project\\Merged Files\\AP_merged.csv'.\n",
      "Merged files for prefix 'PY' into 'E:\\CDAC(2024)\\Air Quality Project\\Merged Files\\PY_merged.csv'.\n",
      "Merged files for prefix 'DL' into 'E:\\CDAC(2024)\\Air Quality Project\\Merged Files\\DL_merged.csv'.\n",
      "Merged files for prefix 'MP' into 'E:\\CDAC(2024)\\Air Quality Project\\Merged Files\\MP_merged.csv'.\n",
      "Merged files for prefix 'ML' into 'E:\\CDAC(2024)\\Air Quality Project\\Merged Files\\ML_merged.csv'.\n",
      "Merged files for prefix 'AR' into 'E:\\CDAC(2024)\\Air Quality Project\\Merged Files\\AR_merged.csv'.\n",
      "Merged files for prefix 'HP' into 'E:\\CDAC(2024)\\Air Quality Project\\Merged Files\\HP_merged.csv'.\n",
      "Merged files for prefix 'MZ' into 'E:\\CDAC(2024)\\Air Quality Project\\Merged Files\\MZ_merged.csv'.\n",
      "Merged files for prefix 'CG' into 'E:\\CDAC(2024)\\Air Quality Project\\Merged Files\\CG_merged.csv'.\n",
      "Merged files for prefix 'TN' into 'E:\\CDAC(2024)\\Air Quality Project\\Merged Files\\TN_merged.csv'.\n",
      "Merged files for prefix 'MH' into 'E:\\CDAC(2024)\\Air Quality Project\\Merged Files\\MH_merged.csv'.\n",
      "Merged files for prefix 'TG' into 'E:\\CDAC(2024)\\Air Quality Project\\Merged Files\\TG_merged.csv'.\n",
      "Merged files for prefix 'UP' into 'E:\\CDAC(2024)\\Air Quality Project\\Merged Files\\UP_merged.csv'.\n",
      "Merged files for prefix 'SK' into 'E:\\CDAC(2024)\\Air Quality Project\\Merged Files\\SK_merged.csv'.\n"
     ]
    }
   ],
   "source": [
    "# Specify the directory where the CSV files are located\n",
    "input_directory = 'E:\\CDAC(2024)\\Air Quality Project\\Dataset'\n",
    "\n",
    "# Specify the output directory where the merged files will be stored\n",
    "output_directory = 'E:\\CDAC(2024)\\Air Quality Project\\Merged Files'\n",
    "\n",
    "# Run the function to merge files by prefix\n",
    "merge_files_by_prefix(input_directory, output_directory)"
   ]
  },
  {
   "cell_type": "code",
   "execution_count": null,
   "id": "ddaf0af0",
   "metadata": {},
   "outputs": [],
   "source": []
  },
  {
   "cell_type": "code",
   "execution_count": null,
   "id": "810397ea",
   "metadata": {},
   "outputs": [],
   "source": []
  }
 ],
 "metadata": {
  "kernelspec": {
   "display_name": "Python 3 (ipykernel)",
   "language": "python",
   "name": "python3"
  },
  "language_info": {
   "codemirror_mode": {
    "name": "ipython",
    "version": 3
   },
   "file_extension": ".py",
   "mimetype": "text/x-python",
   "name": "python",
   "nbconvert_exporter": "python",
   "pygments_lexer": "ipython3",
   "version": "3.11.5"
  }
 },
 "nbformat": 4,
 "nbformat_minor": 5
}
