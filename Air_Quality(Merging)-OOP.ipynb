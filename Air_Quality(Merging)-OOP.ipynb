{
 "cells": [
  {
   "cell_type": "code",
   "execution_count": 1,
   "id": "0cad7825",
   "metadata": {},
   "outputs": [],
   "source": [
    "import os\n",
    "import glob\n",
    "import pandas as pd"
   ]
  },
  {
   "cell_type": "code",
   "execution_count": 2,
   "id": "0b0b3157",
   "metadata": {},
   "outputs": [],
   "source": [
    "class AirQualityDataProcessor:\n",
    "    def __init__(self, dataset_dir, stations_info_file):\n",
    "        \"\"\"\n",
    "        Initialize the processor with the dataset directory and stations info file.\n",
    "        Args:\n",
    "            dataset_dir (str): Path to the dataset directory.\n",
    "            stations_info_file (str): Path to the stations info file.\n",
    "        \"\"\"\n",
    "        self.dataset_dir = dataset_dir\n",
    "        self.stations_info = pd.read_csv(stations_info_file)\n",
    "\n",
    "    def process_files(self):\n",
    "        \"\"\"\n",
    "        Process all CSV files in the dataset directory by adding state and city columns from stations info.\n",
    "        \"\"\"\n",
    "        for file in glob.glob(os.path.join(self.dataset_dir, '*.csv')):\n",
    "            if file != os.path.join(self.dataset_dir, 'E:\\CDAC(2024)\\Air Quality Project\\PracticeData\\Dataset\\stations_info.csv'):\n",
    "                df = pd.read_csv(file)\n",
    "                filename = os.path.basename(file).split('.')[0]\n",
    "                df = df.assign(file_name=filename).merge(self.stations_info[['file_name', 'state', 'city', 'station_location']], on='file_name', how='left').drop('file_name', axis=1)\n",
    "                df.to_csv(file, index=False)"
   ]
  },
  {
   "cell_type": "code",
   "execution_count": 3,
   "id": "e994351b",
   "metadata": {},
   "outputs": [],
   "source": [
    "class CSVFileMerger:\n",
    "    def __init__(self, input_directory, output_directory):\n",
    "        \"\"\"\n",
    "        Initialize the CSV file merger with the input and output directories.\n",
    "        Args:\n",
    "            input_directory (str): Path to the input directory containing CSV files.\n",
    "            output_directory (str): Path to the output directory where merged files will be stored.\n",
    "        \"\"\"\n",
    "        self.input_directory = input_directory\n",
    "        self.output_directory = output_directory\n",
    "\n",
    "    def run(self):\n",
    "        \"\"\"\n",
    "        Run the CSV file merger.\n",
    "        \"\"\"\n",
    "        os.makedirs(self.output_directory, exist_ok=True)\n",
    "        files = [f for f in os.listdir(self.input_directory) if f.endswith('.csv')]\n",
    "        prefixes = set(f[:2] for f in files)\n",
    "        for prefix in prefixes:\n",
    "            files_to_merge = [f for f in files if f.startswith(prefix)]\n",
    "            merged_df = pd.concat([pd.read_csv(os.path.join(self.input_directory, f)) for f in files_to_merge], ignore_index=True)\n",
    "            merged_file_name = f\"{prefix}.csv\"\n",
    "            output_file_path = os.path.join(self.output_directory, merged_file_name)\n",
    "            merged_df.to_csv(output_file_path, index=False)\n",
    "            print(f\"Merged files for prefix '{prefix}' into '{output_file_path}'.\")    "
   ]
  },
  {
   "cell_type": "code",
   "execution_count": 4,
   "id": "20052f90",
   "metadata": {},
   "outputs": [
    {
     "name": "stdout",
     "output_type": "stream",
     "text": [
      "Merged files for prefix 'KA' into 'E:\\CDAC(2024)\\Air Quality Project\\PracticeData\\Merged Files\\KA.csv'.\n",
      "Merged files for prefix 'TG' into 'E:\\CDAC(2024)\\Air Quality Project\\PracticeData\\Merged Files\\TG.csv'.\n",
      "Merged files for prefix 'BR' into 'E:\\CDAC(2024)\\Air Quality Project\\PracticeData\\Merged Files\\BR.csv'.\n",
      "Merged files for prefix 'ML' into 'E:\\CDAC(2024)\\Air Quality Project\\PracticeData\\Merged Files\\ML.csv'.\n",
      "Merged files for prefix 'MH' into 'E:\\CDAC(2024)\\Air Quality Project\\PracticeData\\Merged Files\\MH.csv'.\n",
      "Merged files for prefix 'MZ' into 'E:\\CDAC(2024)\\Air Quality Project\\PracticeData\\Merged Files\\MZ.csv'.\n",
      "Merged files for prefix 'OR' into 'E:\\CDAC(2024)\\Air Quality Project\\PracticeData\\Merged Files\\OR.csv'.\n",
      "Merged files for prefix 'WB' into 'E:\\CDAC(2024)\\Air Quality Project\\PracticeData\\Merged Files\\WB.csv'.\n",
      "Merged files for prefix 'UK' into 'E:\\CDAC(2024)\\Air Quality Project\\PracticeData\\Merged Files\\UK.csv'.\n",
      "Merged files for prefix 'CH' into 'E:\\CDAC(2024)\\Air Quality Project\\PracticeData\\Merged Files\\CH.csv'.\n",
      "Merged files for prefix 'CG' into 'E:\\CDAC(2024)\\Air Quality Project\\PracticeData\\Merged Files\\CG.csv'.\n",
      "Merged files for prefix 'st' into 'E:\\CDAC(2024)\\Air Quality Project\\PracticeData\\Merged Files\\st.csv'.\n",
      "Merged files for prefix 'JK' into 'E:\\CDAC(2024)\\Air Quality Project\\PracticeData\\Merged Files\\JK.csv'.\n",
      "Merged files for prefix 'MP' into 'E:\\CDAC(2024)\\Air Quality Project\\PracticeData\\Merged Files\\MP.csv'.\n",
      "Merged files for prefix 'UP' into 'E:\\CDAC(2024)\\Air Quality Project\\PracticeData\\Merged Files\\UP.csv'.\n",
      "Merged files for prefix 'DL' into 'E:\\CDAC(2024)\\Air Quality Project\\PracticeData\\Merged Files\\DL.csv'.\n",
      "Merged files for prefix 'PY' into 'E:\\CDAC(2024)\\Air Quality Project\\PracticeData\\Merged Files\\PY.csv'.\n",
      "Merged files for prefix 'JH' into 'E:\\CDAC(2024)\\Air Quality Project\\PracticeData\\Merged Files\\JH.csv'.\n",
      "Merged files for prefix 'TR' into 'E:\\CDAC(2024)\\Air Quality Project\\PracticeData\\Merged Files\\TR.csv'.\n",
      "Merged files for prefix 'NL' into 'E:\\CDAC(2024)\\Air Quality Project\\PracticeData\\Merged Files\\NL.csv'.\n",
      "Merged files for prefix 'GJ' into 'E:\\CDAC(2024)\\Air Quality Project\\PracticeData\\Merged Files\\GJ.csv'.\n",
      "Merged files for prefix 'AS' into 'E:\\CDAC(2024)\\Air Quality Project\\PracticeData\\Merged Files\\AS.csv'.\n",
      "Merged files for prefix 'MN' into 'E:\\CDAC(2024)\\Air Quality Project\\PracticeData\\Merged Files\\MN.csv'.\n",
      "Merged files for prefix 'RJ' into 'E:\\CDAC(2024)\\Air Quality Project\\PracticeData\\Merged Files\\RJ.csv'.\n",
      "Merged files for prefix 'AR' into 'E:\\CDAC(2024)\\Air Quality Project\\PracticeData\\Merged Files\\AR.csv'.\n",
      "Merged files for prefix 'TN' into 'E:\\CDAC(2024)\\Air Quality Project\\PracticeData\\Merged Files\\TN.csv'.\n",
      "Merged files for prefix 'SK' into 'E:\\CDAC(2024)\\Air Quality Project\\PracticeData\\Merged Files\\SK.csv'.\n",
      "Merged files for prefix 'KL' into 'E:\\CDAC(2024)\\Air Quality Project\\PracticeData\\Merged Files\\KL.csv'.\n",
      "Merged files for prefix 'HR' into 'E:\\CDAC(2024)\\Air Quality Project\\PracticeData\\Merged Files\\HR.csv'.\n",
      "Merged files for prefix 'HP' into 'E:\\CDAC(2024)\\Air Quality Project\\PracticeData\\Merged Files\\HP.csv'.\n",
      "Merged files for prefix 'AP' into 'E:\\CDAC(2024)\\Air Quality Project\\PracticeData\\Merged Files\\AP.csv'.\n",
      "Merged files for prefix 'PB' into 'E:\\CDAC(2024)\\Air Quality Project\\PracticeData\\Merged Files\\PB.csv'.\n"
     ]
    }
   ],
   "source": [
    "if __name__ == '__main__':\n",
    "    dataset_dir = 'E:\\CDAC(2024)\\Air Quality Project\\PracticeData\\Dataset'\n",
    "    stations_info_file = os.path.join(dataset_dir, 'E:\\CDAC(2024)\\Air Quality Project\\PracticeData\\Dataset\\stations_info.csv')\n",
    "    processor = AirQualityDataProcessor(dataset_dir, stations_info_file)\n",
    "    processor.process_files()\n",
    "    output_directory = 'E:\\CDAC(2024)\\Air Quality Project\\PracticeData\\Merged Files'\n",
    "    merger = CSVFileMerger(dataset_dir, output_directory)\n",
    "    merger.run()"
   ]
  },
  {
   "cell_type": "code",
   "execution_count": null,
   "id": "0e90d81c",
   "metadata": {},
   "outputs": [],
   "source": []
  },
  {
   "cell_type": "code",
   "execution_count": null,
   "id": "56e252d3",
   "metadata": {},
   "outputs": [],
   "source": []
  },
  {
   "cell_type": "code",
   "execution_count": null,
   "id": "c7404510",
   "metadata": {},
   "outputs": [],
   "source": []
  }
 ],
 "metadata": {
  "kernelspec": {
   "display_name": "Python 3 (ipykernel)",
   "language": "python",
   "name": "python3"
  },
  "language_info": {
   "codemirror_mode": {
    "name": "ipython",
    "version": 3
   },
   "file_extension": ".py",
   "mimetype": "text/x-python",
   "name": "python",
   "nbconvert_exporter": "python",
   "pygments_lexer": "ipython3",
   "version": "3.9.12"
  }
 },
 "nbformat": 4,
 "nbformat_minor": 5
}
